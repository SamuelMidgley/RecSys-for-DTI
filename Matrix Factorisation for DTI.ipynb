{
 "cells": [
  {
   "cell_type": "markdown",
   "id": "b3e3e57a",
   "metadata": {},
   "source": [
    "# Matrix Factorisation for Drug Target Interaction"
   ]
  },
  {
   "cell_type": "markdown",
   "id": "7427b7fb",
   "metadata": {},
   "source": [
    "This notebook will provide a run through of the group project undertaken at the University of Sheffield for the Data Analytics MSc. While this was a group project all code and comments are mine."
   ]
  },
  {
   "cell_type": "code",
   "execution_count": 27,
   "id": "9ccd0e6c",
   "metadata": {},
   "outputs": [],
   "source": [
    "# import modules\n",
    "import numpy as np\n",
    "import pandas as pd\n",
    "import matplotlib.pyplot as plt\n",
    "from tdc.multi_pred import DTI\n",
    "import torch\n",
    "from torch.utils.data import Dataset, DataLoader\n",
    "from rdkit import Chem"
   ]
  },
  {
   "cell_type": "markdown",
   "id": "f0c6c060",
   "metadata": {},
   "source": [
    "## Data Loading and Exploration"
   ]
  },
  {
   "cell_type": "code",
   "execution_count": 2,
   "id": "c8516bb9",
   "metadata": {},
   "outputs": [
    {
     "name": "stderr",
     "output_type": "stream",
     "text": [
      "Found local copy...\n",
      "Loading...\n",
      "Done!\n",
      "To log space...\n"
     ]
    }
   ],
   "source": [
    "# load in the Kd dataset\n",
    "# method also works with IC50 and Ki datasets\n",
    "data = DTI(name = 'BindingDB_Kd')\n",
    "data.convert_to_log(form = 'binding') # converted binding affinity values to log space for more stable training"
   ]
  },
  {
   "cell_type": "code",
   "execution_count": 3,
   "id": "428d2081",
   "metadata": {},
   "outputs": [],
   "source": [
    "# split data using the tdc module random split using default 0.7, 0.1, 0.2 split\n",
    "split = data.get_split(seed = 42, frac=[0.6, 0.05, 0.35])\n",
    "train = split['train']\n",
    "test = split['test']"
   ]
  },
  {
   "cell_type": "code",
   "execution_count": 14,
   "id": "55b88b68",
   "metadata": {},
   "outputs": [],
   "source": [
    "# Combine training and test datasets\n",
    "df = pd.concat([train, test], ignore_index=True, sort=False)"
   ]
  },
  {
   "cell_type": "markdown",
   "id": "de75a637",
   "metadata": {},
   "source": [
    "Now that the data is loaded in lets have a look at it"
   ]
  },
  {
   "cell_type": "code",
   "execution_count": 15,
   "id": "d6879ebb",
   "metadata": {},
   "outputs": [
    {
     "data": {
      "text/html": [
       "<div>\n",
       "<style scoped>\n",
       "    .dataframe tbody tr th:only-of-type {\n",
       "        vertical-align: middle;\n",
       "    }\n",
       "\n",
       "    .dataframe tbody tr th {\n",
       "        vertical-align: top;\n",
       "    }\n",
       "\n",
       "    .dataframe thead th {\n",
       "        text-align: right;\n",
       "    }\n",
       "</style>\n",
       "<table border=\"1\" class=\"dataframe\">\n",
       "  <thead>\n",
       "    <tr style=\"text-align: right;\">\n",
       "      <th></th>\n",
       "      <th>Drug_ID</th>\n",
       "      <th>Drug</th>\n",
       "      <th>Target_ID</th>\n",
       "      <th>Target</th>\n",
       "      <th>Y</th>\n",
       "    </tr>\n",
       "  </thead>\n",
       "  <tbody>\n",
       "    <tr>\n",
       "      <th>0</th>\n",
       "      <td>4293.0</td>\n",
       "      <td>NS(=O)(=O)c1ccc(S(=O)(=O)NCc2cccs2)s1</td>\n",
       "      <td>P00918</td>\n",
       "      <td>MSHHWGYGKHNGPEHWHKDFPIAKGERQSPVDIDTHTAKYDPSLKP...</td>\n",
       "      <td>9.031517</td>\n",
       "    </tr>\n",
       "    <tr>\n",
       "      <th>1</th>\n",
       "      <td>1611.0</td>\n",
       "      <td>NS(=O)(=O)c1cc2c(s1)S(=O)(=O)N(Cc1cccs1)CC2O</td>\n",
       "      <td>P00918</td>\n",
       "      <td>MSHHWGYGKHNGPEHWHKDFPIAKGERQSPVDIDTHTAKYDPSLKP...</td>\n",
       "      <td>9.522879</td>\n",
       "    </tr>\n",
       "    <tr>\n",
       "      <th>2</th>\n",
       "      <td>3013848.0</td>\n",
       "      <td>CN[C@H]1CN(c2cccc(OC)c2)S(=O)(=O)c2sc(S(N)(=O)...</td>\n",
       "      <td>P00918</td>\n",
       "      <td>MSHHWGYGKHNGPEHWHKDFPIAKGERQSPVDIDTHTAKYDPSLKP...</td>\n",
       "      <td>9.698970</td>\n",
       "    </tr>\n",
       "    <tr>\n",
       "      <th>3</th>\n",
       "      <td>4369101.0</td>\n",
       "      <td>CN[C@@H]1CN(c2cccc(OC)c2)S(=O)(=O)c2sc(S(N)(=O...</td>\n",
       "      <td>P00918</td>\n",
       "      <td>MSHHWGYGKHNGPEHWHKDFPIAKGERQSPVDIDTHTAKYDPSLKP...</td>\n",
       "      <td>8.744727</td>\n",
       "    </tr>\n",
       "    <tr>\n",
       "      <th>4</th>\n",
       "      <td>1514.0</td>\n",
       "      <td>COc1cccc(N2C=Cc3cc(S(N)(=O)=O)sc3S2(=O)=O)c1</td>\n",
       "      <td>P00918</td>\n",
       "      <td>MSHHWGYGKHNGPEHWHKDFPIAKGERQSPVDIDTHTAKYDPSLKP...</td>\n",
       "      <td>9.638272</td>\n",
       "    </tr>\n",
       "  </tbody>\n",
       "</table>\n",
       "</div>"
      ],
      "text/plain": [
       "     Drug_ID                                               Drug Target_ID  \\\n",
       "0     4293.0              NS(=O)(=O)c1ccc(S(=O)(=O)NCc2cccs2)s1    P00918   \n",
       "1     1611.0       NS(=O)(=O)c1cc2c(s1)S(=O)(=O)N(Cc1cccs1)CC2O    P00918   \n",
       "2  3013848.0  CN[C@H]1CN(c2cccc(OC)c2)S(=O)(=O)c2sc(S(N)(=O)...    P00918   \n",
       "3  4369101.0  CN[C@@H]1CN(c2cccc(OC)c2)S(=O)(=O)c2sc(S(N)(=O...    P00918   \n",
       "4     1514.0       COc1cccc(N2C=Cc3cc(S(N)(=O)=O)sc3S2(=O)=O)c1    P00918   \n",
       "\n",
       "                                              Target         Y  \n",
       "0  MSHHWGYGKHNGPEHWHKDFPIAKGERQSPVDIDTHTAKYDPSLKP...  9.031517  \n",
       "1  MSHHWGYGKHNGPEHWHKDFPIAKGERQSPVDIDTHTAKYDPSLKP...  9.522879  \n",
       "2  MSHHWGYGKHNGPEHWHKDFPIAKGERQSPVDIDTHTAKYDPSLKP...  9.698970  \n",
       "3  MSHHWGYGKHNGPEHWHKDFPIAKGERQSPVDIDTHTAKYDPSLKP...  8.744727  \n",
       "4  MSHHWGYGKHNGPEHWHKDFPIAKGERQSPVDIDTHTAKYDPSLKP...  9.638272  "
      ]
     },
     "execution_count": 15,
     "metadata": {},
     "output_type": "execute_result"
    }
   ],
   "source": [
    "df.head()"
   ]
  },
  {
   "cell_type": "markdown",
   "id": "3b0278ed",
   "metadata": {},
   "source": [
    "The `Drug` column shows the SMILE representation of the drugs and the `Target` column is the protein sequence of the target. The final column `Y` is the binding affinity which has previously been converted to log space."
   ]
  },
  {
   "cell_type": "code",
   "execution_count": 18,
   "id": "2cc6f866",
   "metadata": {
    "scrolled": true
   },
   "outputs": [
    {
     "name": "stdout",
     "output_type": "stream",
     "text": [
      "<class 'pandas.core.frame.DataFrame'>\n",
      "RangeIndex: 49660 entries, 0 to 49659\n",
      "Data columns (total 5 columns):\n",
      " #   Column     Non-Null Count  Dtype  \n",
      "---  ------     --------------  -----  \n",
      " 0   Drug_ID    49660 non-null  float64\n",
      " 1   Drug       49660 non-null  object \n",
      " 2   Target_ID  45536 non-null  object \n",
      " 3   Target     49660 non-null  object \n",
      " 4   Y          49660 non-null  float64\n",
      "dtypes: float64(2), object(3)\n",
      "memory usage: 1.9+ MB\n"
     ]
    }
   ],
   "source": [
    "df.info()"
   ]
  },
  {
   "cell_type": "markdown",
   "id": "8c2ea8af",
   "metadata": {},
   "source": [
    "While the dataset does include IDs for the Targets it has some NaN values that the Target column does not have, therefore this will not be used."
   ]
  },
  {
   "cell_type": "code",
   "execution_count": 20,
   "id": "ac1f5228",
   "metadata": {},
   "outputs": [
    {
     "name": "stdout",
     "output_type": "stream",
     "text": [
      "Unique drugs:  10313\n",
      "Unique targets:  1397\n"
     ]
    }
   ],
   "source": [
    "print('Unique drugs: ', len(pd.unique(df['Drug'])))\n",
    "print('Unique targets: ', len(pd.unique(df['Target'])))"
   ]
  },
  {
   "cell_type": "markdown",
   "id": "61093419",
   "metadata": {},
   "source": [
    "## Data pre-processing"
   ]
  },
  {
   "cell_type": "markdown",
   "id": "37a3a540",
   "metadata": {},
   "source": [
    "The matrix factorisation will require an index for each unique drug and target, this is done with the enumerate function in python."
   ]
  },
  {
   "cell_type": "code",
   "execution_count": 21,
   "id": "6c069496",
   "metadata": {},
   "outputs": [],
   "source": [
    "# enumerate drugs and targets for easy indexing\n",
    "ID_to_Drug = dict(enumerate(list(dict.fromkeys(train['Drug']))))\n",
    "ID_to_Target = dict(enumerate(list(dict.fromkeys(train['Target']))))\n",
    "\n",
    "Drug_to_ID = dict((v,k) for k,v in ID_to_Drug.items())\n",
    "Target_to_ID = dict((v,k) for k,v in ID_to_Target.items())"
   ]
  },
  {
   "cell_type": "markdown",
   "id": "6b6bbea7",
   "metadata": {},
   "source": [
    "Now each unique drug and target has a number associated with it starting from zero that will be used to index for the matrix factorisation model. This dictionary will then be applied to both the training and test sets using a function to avoid duplicate code. The function also prepares the data set for PyTorch's Dataloader."
   ]
  },
  {
   "cell_type": "code",
   "execution_count": 23,
   "id": "e397df65",
   "metadata": {},
   "outputs": [],
   "source": [
    "def data_loader(data, drug_dict, target_dict):\n",
    "    # allows data to be correctly passed in to PyTorch DataLoader\n",
    "    \n",
    "    # apply ID dictionary to both drugs and targets\n",
    "    data[\"Drug_DictID\"] = data[\"Drug\"].apply(lambda x:drug_dict.get(x))\n",
    "    data[\"Target_DictID\"] = data[\"Target\"].apply(lambda x:target_dict.get(x))\n",
    "\n",
    "    # convert data into expected data types\n",
    "    drug_ID = data[\"Drug_DictID\"].to_numpy()\n",
    "    target_ID = data[\"Target_DictID\"].to_numpy()\n",
    "    features = np.vstack((drug_ID, target_ID)).T\n",
    "    label = data['Y'].to_numpy()\n",
    "    return features, label"
   ]
  },
  {
   "cell_type": "code",
   "execution_count": 24,
   "id": "b5bbeae5",
   "metadata": {},
   "outputs": [],
   "source": [
    "x_train, y_train = data_loader(train, Drug_to_ID, Target_to_ID)\n",
    "x_test, y_test = data_loader(test, Drug_to_ID, Target_to_ID)"
   ]
  },
  {
   "cell_type": "markdown",
   "id": "eaf03f9d",
   "metadata": {},
   "source": [
    "The training and test data sets are now set up as ($N$, 2) arrays where $N$ is the number of entries in the dataset. The first column represents the drugs and the second column represents the targets."
   ]
  },
  {
   "cell_type": "code",
   "execution_count": 25,
   "id": "5c7ccbb8",
   "metadata": {},
   "outputs": [
    {
     "data": {
      "text/plain": [
       "array([[   0,    0],\n",
       "       [   1,    0],\n",
       "       [   2,    0],\n",
       "       ...,\n",
       "       [7536,   47],\n",
       "       [7301, 1240],\n",
       "       [7301, 1240]], dtype=int64)"
      ]
     },
     "execution_count": 25,
     "metadata": {},
     "output_type": "execute_result"
    }
   ],
   "source": [
    "x_train"
   ]
  },
  {
   "cell_type": "markdown",
   "id": "44b7b02d",
   "metadata": {},
   "source": [
    "The next step to prepare the data is to use the PyTorch `Dataloader` function so that it can be passed into the model."
   ]
  },
  {
   "cell_type": "code",
   "execution_count": 28,
   "id": "c3a86b99",
   "metadata": {},
   "outputs": [],
   "source": [
    "class RatingDataset(Dataset):\n",
    "    def __init__(self, train, label):\n",
    "        self.feature_ = train\n",
    "        self.label_ = label\n",
    "\n",
    "    def __len__(self):\n",
    "        # return size of dataset\n",
    "        return len(self.feature_)\n",
    "\n",
    "    def __getitem__(self, idx):\n",
    "        return torch.tensor(self.feature_[idx], dtype=torch.long), torch.tensor(self.label_[idx], dtype=torch.float)"
   ]
  },
  {
   "cell_type": "code",
   "execution_count": 29,
   "id": "989d2532",
   "metadata": {},
   "outputs": [],
   "source": [
    "bs = 100 # batch size\n",
    "\n",
    "train_dataloader = DataLoader(RatingDataset(x_train, y_train), batch_size=bs, shuffle=True)\n",
    "test_dataloader = DataLoader(RatingDataset(x_test, y_test), batch_size=bs)"
   ]
  },
  {
   "cell_type": "markdown",
   "id": "df01de0c",
   "metadata": {},
   "source": [
    "Now the data is prepared and ready to be implemented into the models."
   ]
  },
  {
   "cell_type": "markdown",
   "id": "5b175bc3",
   "metadata": {},
   "source": [
    "## Base Matrix Factorisation Model"
   ]
  },
  {
   "cell_type": "markdown",
   "id": "eb196ea5",
   "metadata": {},
   "source": [
    "The first model to be tested has been called the base matrix factorisation model. This is the standard method for matrix factorisation where predictions are be obtained via $A*B^T=Y$ where $Y$ is a matrix of predictions for the binding affinity. This starts with defining a class for the model, this was obtained from a [Medium article](https://medium.com/@rinabuoy13/explicit-recommender-system-matrix-factorization-in-pytorch-f3779bb55d74)."
   ]
  },
  {
   "cell_type": "markdown",
   "id": "06167195",
   "metadata": {},
   "source": [
    "### Creating the model"
   ]
  },
  {
   "cell_type": "code",
   "execution_count": 30,
   "id": "08a2e0e4",
   "metadata": {},
   "outputs": [],
   "source": [
    "class MatrixFactorization(torch.nn.Module):\n",
    "\n",
    "    def __init__(self, n_users, n_items, n_factors):\n",
    "        super().__init__()\n",
    "        self.user_factors = torch.nn.Embedding(n_users, n_factors)\n",
    "        self.item_factors = torch.nn.Embedding(n_items, n_factors)\n",
    "        torch.nn.init.xavier_uniform_(self.user_factors.weight)\n",
    "        torch.nn.init.xavier_uniform_(self.item_factors.weight)\n",
    "\n",
    "        self.user_biases = torch.nn.Embedding(n_users, 1)\n",
    "        self.item_biases = torch.nn.Embedding(n_items, 1)\n",
    "        self.user_biases.weight.data.fill_(0.)\n",
    "        self.item_biases.weight.data.fill_(0.)\n",
    "\n",
    "    def forward(self, user, item):\n",
    "        pred = self.user_biases(user) + self.item_biases(item)\n",
    "        pred += (self.user_factors(user) * self.item_factors(item)).sum(1, keepdim=True)\n",
    "        return pred.squeeze()"
   ]
  },
  {
   "cell_type": "markdown",
   "id": "c9d3456b",
   "metadata": {},
   "source": [
    "With the class for the model defined lets create it."
   ]
  },
  {
   "cell_type": "code",
   "execution_count": 38,
   "id": "37630545",
   "metadata": {},
   "outputs": [],
   "source": [
    "n_factors = 20 # number of latent factors\n",
    "\n",
    "MF_model = MatrixFactorization(len(Drug_to_ID), len(Target_to_ID), n_factors)"
   ]
  },
  {
   "cell_type": "markdown",
   "id": "240ae96f",
   "metadata": {},
   "source": [
    "### Model Training"
   ]
  },
  {
   "cell_type": "markdown",
   "id": "f8e6ba36",
   "metadata": {},
   "source": [
    "The next step is to train the model, the following code was obtained from the same [Medium article](https://medium.com/@rinabuoy13/explicit-recommender-system-matrix-factorization-in-pytorch-f3779bb55d74) with some minor changes. This code allows for training with a GPU which helps to reduce training time."
   ]
  },
  {
   "cell_type": "code",
   "execution_count": 39,
   "id": "7180c5c8",
   "metadata": {},
   "outputs": [
    {
     "name": "stdout",
     "output_type": "stream",
     "text": [
      "epoch:  0  avg training loss:  29.588659322945176  avg test loss:  24.071438669506968\n",
      "epoch:  5  avg training loss:  10.165614018774336  avg test loss:  9.509340228930197\n",
      "epoch:  10  avg training loss:  7.469274681844529  avg test loss:  7.122318899696642\n",
      "epoch:  15  avg training loss:  6.206656903977606  avg test loss:  5.970702669008182\n",
      "epoch:  20  avg training loss:  5.373304351879533  avg test loss:  5.216243654000954\n",
      "epoch:  25  avg training loss:  4.750994533490223  avg test loss:  4.653450838203638\n",
      "epoch:  30  avg training loss:  4.231967058910686  avg test loss:  4.192418937474652\n",
      "epoch:  35  avg training loss:  3.7947211819849196  avg test loss:  3.805124494547401\n",
      "epoch:  40  avg training loss:  3.434810575406263  avg test loss:  3.4846926465060544\n",
      "epoch:  45  avg training loss:  3.1340227191615257  avg test loss:  3.2210583517460223\n",
      "epoch:  50  avg training loss:  2.8848246335983276  avg test loss:  3.004171428784647\n",
      "epoch:  55  avg training loss:  2.6758408151614437  avg test loss:  2.824671594822993\n",
      "epoch:  60  avg training loss:  2.496955099379181  avg test loss:  2.674572836831619\n",
      "epoch:  65  avg training loss:  2.3436352770039988  avg test loss:  2.546584119562243\n",
      "epoch:  70  avg training loss:  2.2093001698992056  avg test loss:  2.4356219162706467\n",
      "epoch:  75  avg training loss:  2.0895655179858967  avg test loss:  2.3382545732409574\n",
      "epoch:  80  avg training loss:  1.9812085364654566  avg test loss:  2.2519307761895853\n",
      "epoch:  85  avg training loss:  1.8823581263897524  avg test loss:  2.174563597134554\n",
      "epoch:  90  avg training loss:  1.7924428996007153  avg test loss:  2.104574495977391\n",
      "epoch:  95  avg training loss:  1.7077668037763827  avg test loss:  2.040735022943528\n"
     ]
    }
   ],
   "source": [
    "dev = torch.device(\"cuda\") if torch.cuda.is_available() else torch.device(\"cpu\")\n",
    "loss_func = torch.nn.MSELoss()\n",
    "\n",
    "MF_model.to(dev)\n",
    "\n",
    "train_losses = []\n",
    "test_losses = []\n",
    "\n",
    "num_epochs = 100\n",
    "\n",
    "for epoch in range(0, num_epochs):\n",
    "    count = 0\n",
    "    cum_loss = 0.\n",
    "    for i, (train_batch, label_batch) in enumerate(train_dataloader):\n",
    "        count = 1 + i\n",
    "        # Predict and calculate loss for user factor and bias\n",
    "        optimizer = torch.optim.SGD([MF_model.user_biases.weight, MF_model.user_factors.weight,\n",
    "                                     MF_model.item_biases.weight, MF_model.item_factors.weight],\n",
    "                                    lr=0.05, weight_decay=1e-5)\n",
    "        prediction = MF_model(train_batch[:, 0].to(dev), train_batch[:, 1].to(dev))\n",
    "        loss = loss_func(prediction, label_batch.to(dev)).float()\n",
    "        loss_item = loss.item()\n",
    "        cum_loss += loss_item\n",
    "\n",
    "        # Backpropagate\n",
    "        loss.backward()\n",
    "\n",
    "        # Update the parameters\n",
    "        optimizer.step()\n",
    "        optimizer.zero_grad()\n",
    "\n",
    "    train_loss = cum_loss / count\n",
    "    train_losses.append(train_loss)\n",
    "\n",
    "    cum_loss = 0.\n",
    "    count = 0\n",
    "    for i, (test_batch, label_batch) in enumerate(test_dataloader):\n",
    "        count = 1 + i\n",
    "        with torch.no_grad():\n",
    "            prediction = MF_model(test_batch[:, 0].to(dev), test_batch[:, 1].to(dev))\n",
    "            loss = loss_func(prediction, label_batch.to(dev))\n",
    "            cum_loss += loss.item()\n",
    "\n",
    "    test_loss = cum_loss / count\n",
    "    test_losses.append(test_loss)\n",
    "    if epoch % 5 == 0:\n",
    "        print('epoch: ', epoch, ' avg training loss: ', train_loss, ' avg test loss: ', test_loss)"
   ]
  },
  {
   "cell_type": "markdown",
   "id": "a7edb27a",
   "metadata": {},
   "source": [
    "With the model trained lets look at the training and test losses."
   ]
  },
  {
   "cell_type": "code",
   "execution_count": 40,
   "id": "197416de",
   "metadata": {},
   "outputs": [
    {
     "data": {
      "image/png": "[encoded data removed]",
      "text/plain": [
       "<Figure size 432x288 with 1 Axes>"
      ]
     },
     "metadata": {
      "needs_background": "light"
     },
     "output_type": "display_data"
    }
   ],
   "source": [
    "epochs = range(1, num_epochs+1)\n",
    "plt.plot(epochs, train_losses, label='train')\n",
    "plt.plot(epochs, test_losses, label='test')\n",
    "plt.xlabel('epoch')\n",
    "plt.ylabel('mse loss')\n",
    "plt.legend()\n",
    "#     plt.savefig(img_name)\n",
    "plt.show()"
   ]
  },
  {
   "cell_type": "markdown",
   "id": "e0e3bb08",
   "metadata": {},
   "source": [
    "Both training and test losses decrease in a standard way, given the plateau training for more than 100 epochs is unlikely to yield a much better model."
   ]
  },
  {
   "cell_type": "markdown",
   "id": "65a2b0af",
   "metadata": {},
   "source": [
    " ### Model Evaluation"
   ]
  },
  {
   "cell_type": "markdown",
   "id": "b7d8198b",
   "metadata": {},
   "source": [
    "First step is to get the predictions for the test set for the final model"
   ]
  },
  {
   "cell_type": "code",
   "execution_count": 42,
   "id": "bd4e512d",
   "metadata": {},
   "outputs": [],
   "source": [
    "predictions = []\n",
    "for i, (test_batch, label_batch) in enumerate(test_dataloader):\n",
    "    count = 1 + i\n",
    "    with torch.no_grad():\n",
    "        prediction = MF_model(test_batch[:, 0].to(dev), test_batch[:, 1].to(dev))\n",
    "        predictions.extend(list(prediction.cpu().numpy()))"
   ]
  },
  {
   "cell_type": "markdown",
   "id": "cc617632",
   "metadata": {},
   "source": [
    "For the metrics the MSE and the MAE will be used"
   ]
  },
  {
   "cell_type": "code",
   "execution_count": 43,
   "id": "d4ba3524",
   "metadata": {},
   "outputs": [
    {
     "name": "stdout",
     "output_type": "stream",
     "text": [
      "MSE:  1.9938160740089563\n",
      "MAE:  0.8772664698006147\n"
     ]
    }
   ],
   "source": [
    "from tdc import Evaluator\n",
    "mse_evaluator = Evaluator(name = 'MSE')\n",
    "mae_evaluator = Evaluator(name = 'MAE')\n",
    "\n",
    "mse_score = mse_evaluator(y_test, predictions)\n",
    "mae_score = mae_evaluator(y_test, predictions)\n",
    "\n",
    "print('MSE: ', mse_score)\n",
    "print('MAE: ', mae_score)"
   ]
  },
  {
   "cell_type": "markdown",
   "id": "5412f089",
   "metadata": {},
   "source": [
    "### Conclusion"
   ]
  },
  {
   "cell_type": "markdown",
   "id": "e729c906",
   "metadata": {},
   "source": [
    "This same problem has been attempted by a fellow University of Sheffield student and their solution can be found [here](https://github.com/pykale/pykale/tree/main/examples/bindingdb_deepdta). Their method is called DeepDTA and uses convolutional nueral networks to represent the drugs and the targets before concatenating them to achieve the final prediction. While only the MSE is calculated for their model it still provides some comparison. A table comparing the results can be seen below.\n",
    "\n",
    "\n",
    "| Model                | MSE  |\n",
    "|----------------------|------|\n",
    "| Matrix Factorisation | 1.99 |\n",
    "| DeepDTA              | 0.74 |\n",
    "\n",
    "While the model proposed here does not perform as well it is still impressive given the relative simplicitiy of it. Therefore in an attempt to improve the model a new method is proposed to leverage the similarities between drugs and targets."
   ]
  }
 ],
 "metadata": {
  "kernelspec": {
   "display_name": "Python 3",
   "language": "python",
   "name": "python3"
  },
  "language_info": {
   "codemirror_mode": {
    "name": "ipython",
    "version": 3
   },
   "file_extension": ".py",
   "mimetype": "text/x-python",
   "name": "python",
   "nbconvert_exporter": "python",
   "pygments_lexer": "ipython3",
   "version": "3.8.5"
  }
 },
 "nbformat": 4,
 "nbformat_minor": 5
}
