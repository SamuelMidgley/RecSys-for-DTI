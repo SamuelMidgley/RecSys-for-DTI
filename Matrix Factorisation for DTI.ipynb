{
 "cells": [
  {
   "cell_type": "markdown",
   "id": "17ed70c0",
   "metadata": {},
   "source": [
    "# Matrix Factorisation for Drug Target Interaction\n",
    "This notebook will provide a run through of the project undertaken at the University of Sheffield for the Data Analytics MSc.\n",
    "## Background\n",
    "Applying machine learning to the drug target interaction prediction problem can have a very positive impact on the drug development process. By reducing the amount of screening required and also enlarging the search space to avoid any missing potential drugs there is potential for pharmaceutical companies to save large amounts of money. This project uses two different matrix factorisation methods in an attempt to estimate the binding affinity of a drug and a target. \n",
    "## Import dependencies"
   ]
  },
  {
   "cell_type": "code",
   "execution_count": 1,
   "id": "b63d0d79",
   "metadata": {},
   "outputs": [],
   "source": [
    "# import modules\n",
    "import numpy as np\n",
    "import pandas as pd\n",
    "from tqdm import tqdm\n",
    "import matplotlib.pyplot as plt\n",
    "from tdc.multi_pred import DTI\n",
    "import torch\n",
    "from torch.utils.data import Dataset, DataLoader\n",
    "from rdkit import Chem"
   ]
  },
  {
   "cell_type": "markdown",
   "id": "280f7aeb",
   "metadata": {},
   "source": [
    "## Data Loading and Exploration\n",
    "The data is provided by the Therapeutics Data Commons (TDC) ([link here](https://tdcommons.ai/multi_pred_tasks/dti/)). The data base used is BindingDB and in particular the Kd data set. There are two other data sets included in this database; ic50 and Ki, which this exact method would still apply. To begin the project lets load in the Kd dataset."
   ]
  },
  {
   "cell_type": "code",
   "execution_count": 2,
   "id": "754355af",
   "metadata": {},
   "outputs": [
    {
     "name": "stderr",
     "output_type": "stream",
     "text": [
      "Found local copy...\n",
      "Loading...\n",
      "Done!\n",
      "To log space...\n"
     ]
    }
   ],
   "source": [
    "# load in the Kd dataset\n",
    "# method also works with IC50 and Ki datasets\n",
    "data = DTI(name = 'BindingDB_Kd')\n",
    "data.convert_to_log(form = 'binding') # converted binding affinity values to log space for more stable training"
   ]
  },
  {
   "cell_type": "code",
   "execution_count": 3,
   "id": "e2cc6ad4",
   "metadata": {},
   "outputs": [],
   "source": [
    "# split data using the tdc module random split\n",
    "split = data.get_split(seed = 42, frac=[0.6, 0.05, 0.35])\n",
    "train = split['train']\n",
    "test = split['test']"
   ]
  },
  {
   "cell_type": "code",
   "execution_count": 4,
   "id": "b7b22e4e",
   "metadata": {},
   "outputs": [],
   "source": [
    "# Combine training and test datasets\n",
    "df = pd.concat([train, test], ignore_index=True, sort=False)"
   ]
  },
  {
   "cell_type": "markdown",
   "id": "91833c3e",
   "metadata": {},
   "source": [
    "Now that the data is loaded in lets have a look at it"
   ]
  },
  {
   "cell_type": "code",
   "execution_count": 5,
   "id": "13ea9bb2",
   "metadata": {},
   "outputs": [
    {
     "data": {
      "text/html": [
       "<div>\n",
       "<style scoped>\n",
       "    .dataframe tbody tr th:only-of-type {\n",
       "        vertical-align: middle;\n",
       "    }\n",
       "\n",
       "    .dataframe tbody tr th {\n",
       "        vertical-align: top;\n",
       "    }\n",
       "\n",
       "    .dataframe thead th {\n",
       "        text-align: right;\n",
       "    }\n",
       "</style>\n",
       "<table border=\"1\" class=\"dataframe\">\n",
       "  <thead>\n",
       "    <tr style=\"text-align: right;\">\n",
       "      <th></th>\n",
       "      <th>Drug_ID</th>\n",
       "      <th>Drug</th>\n",
       "      <th>Target_ID</th>\n",
       "      <th>Target</th>\n",
       "      <th>Y</th>\n",
       "    </tr>\n",
       "  </thead>\n",
       "  <tbody>\n",
       "    <tr>\n",
       "      <th>0</th>\n",
       "      <td>4293.0</td>\n",
       "      <td>NS(=O)(=O)c1ccc(S(=O)(=O)NCc2cccs2)s1</td>\n",
       "      <td>P00918</td>\n",
       "      <td>MSHHWGYGKHNGPEHWHKDFPIAKGERQSPVDIDTHTAKYDPSLKP...</td>\n",
       "      <td>9.031517</td>\n",
       "    </tr>\n",
       "    <tr>\n",
       "      <th>1</th>\n",
       "      <td>1611.0</td>\n",
       "      <td>NS(=O)(=O)c1cc2c(s1)S(=O)(=O)N(Cc1cccs1)CC2O</td>\n",
       "      <td>P00918</td>\n",
       "      <td>MSHHWGYGKHNGPEHWHKDFPIAKGERQSPVDIDTHTAKYDPSLKP...</td>\n",
       "      <td>9.522879</td>\n",
       "    </tr>\n",
       "    <tr>\n",
       "      <th>2</th>\n",
       "      <td>3013848.0</td>\n",
       "      <td>CN[C@H]1CN(c2cccc(OC)c2)S(=O)(=O)c2sc(S(N)(=O)...</td>\n",
       "      <td>P00918</td>\n",
       "      <td>MSHHWGYGKHNGPEHWHKDFPIAKGERQSPVDIDTHTAKYDPSLKP...</td>\n",
       "      <td>9.698970</td>\n",
       "    </tr>\n",
       "    <tr>\n",
       "      <th>3</th>\n",
       "      <td>4369101.0</td>\n",
       "      <td>CN[C@@H]1CN(c2cccc(OC)c2)S(=O)(=O)c2sc(S(N)(=O...</td>\n",
       "      <td>P00918</td>\n",
       "      <td>MSHHWGYGKHNGPEHWHKDFPIAKGERQSPVDIDTHTAKYDPSLKP...</td>\n",
       "      <td>8.744727</td>\n",
       "    </tr>\n",
       "    <tr>\n",
       "      <th>4</th>\n",
       "      <td>1514.0</td>\n",
       "      <td>COc1cccc(N2C=Cc3cc(S(N)(=O)=O)sc3S2(=O)=O)c1</td>\n",
       "      <td>P00918</td>\n",
       "      <td>MSHHWGYGKHNGPEHWHKDFPIAKGERQSPVDIDTHTAKYDPSLKP...</td>\n",
       "      <td>9.638272</td>\n",
       "    </tr>\n",
       "  </tbody>\n",
       "</table>\n",
       "</div>"
      ],
      "text/plain": [
       "     Drug_ID                                               Drug Target_ID  \\\n",
       "0     4293.0              NS(=O)(=O)c1ccc(S(=O)(=O)NCc2cccs2)s1    P00918   \n",
       "1     1611.0       NS(=O)(=O)c1cc2c(s1)S(=O)(=O)N(Cc1cccs1)CC2O    P00918   \n",
       "2  3013848.0  CN[C@H]1CN(c2cccc(OC)c2)S(=O)(=O)c2sc(S(N)(=O)...    P00918   \n",
       "3  4369101.0  CN[C@@H]1CN(c2cccc(OC)c2)S(=O)(=O)c2sc(S(N)(=O...    P00918   \n",
       "4     1514.0       COc1cccc(N2C=Cc3cc(S(N)(=O)=O)sc3S2(=O)=O)c1    P00918   \n",
       "\n",
       "                                              Target         Y  \n",
       "0  MSHHWGYGKHNGPEHWHKDFPIAKGERQSPVDIDTHTAKYDPSLKP...  9.031517  \n",
       "1  MSHHWGYGKHNGPEHWHKDFPIAKGERQSPVDIDTHTAKYDPSLKP...  9.522879  \n",
       "2  MSHHWGYGKHNGPEHWHKDFPIAKGERQSPVDIDTHTAKYDPSLKP...  9.698970  \n",
       "3  MSHHWGYGKHNGPEHWHKDFPIAKGERQSPVDIDTHTAKYDPSLKP...  8.744727  \n",
       "4  MSHHWGYGKHNGPEHWHKDFPIAKGERQSPVDIDTHTAKYDPSLKP...  9.638272  "
      ]
     },
     "execution_count": 5,
     "metadata": {},
     "output_type": "execute_result"
    }
   ],
   "source": [
    "df.head()"
   ]
  },
  {
   "cell_type": "markdown",
   "id": "f09e5314",
   "metadata": {},
   "source": [
    "The `Drug` column shows the SMILE representation of the drugs and the `Target` column is the protein sequence of the target. The final column `Y` is the binding affinity which has previously been converted to log space."
   ]
  },
  {
   "cell_type": "code",
   "execution_count": 6,
   "id": "7841175b",
   "metadata": {
    "scrolled": true
   },
   "outputs": [
    {
     "name": "stdout",
     "output_type": "stream",
     "text": [
      "<class 'pandas.core.frame.DataFrame'>\n",
      "RangeIndex: 49660 entries, 0 to 49659\n",
      "Data columns (total 5 columns):\n",
      " #   Column     Non-Null Count  Dtype  \n",
      "---  ------     --------------  -----  \n",
      " 0   Drug_ID    49660 non-null  float64\n",
      " 1   Drug       49660 non-null  object \n",
      " 2   Target_ID  45536 non-null  object \n",
      " 3   Target     49660 non-null  object \n",
      " 4   Y          49660 non-null  float64\n",
      "dtypes: float64(2), object(3)\n",
      "memory usage: 1.9+ MB\n"
     ]
    }
   ],
   "source": [
    "df.info()"
   ]
  },
  {
   "cell_type": "markdown",
   "id": "6b96dd32",
   "metadata": {},
   "source": [
    "While the dataset does include IDs for both drugs and targets the Target_ID column has some NaN values that the Target column does not have, therefore this will not be used. \n",
    "\n",
    "For a rough idea of the sparsity of the dataset lets see how many unique drugs and targets there are."
   ]
  },
  {
   "cell_type": "code",
   "execution_count": 7,
   "id": "ebbe729a",
   "metadata": {},
   "outputs": [
    {
     "name": "stdout",
     "output_type": "stream",
     "text": [
      "Unique drugs:  10313\n",
      "Unique targets:  1397\n"
     ]
    }
   ],
   "source": [
    "unique_drugs = pd.unique(df['Drug'])\n",
    "unique_targets = pd.unique(df['Target'])\n",
    "\n",
    "print('Unique drugs: ', len(unique_drugs))\n",
    "print('Unique targets: ', len(unique_targets))"
   ]
  },
  {
   "cell_type": "markdown",
   "id": "5400c6f0",
   "metadata": {},
   "source": [
    "With approximately 50,000 data entries and 10,000 unique drugs the data set is looking pretty sparse."
   ]
  },
  {
   "cell_type": "markdown",
   "id": "8f2c4796",
   "metadata": {},
   "source": [
    "## Data pre-processing\n",
    "The matrix factorisation method used will require an index for each unique drug and target, this is done with the enumerate function in python."
   ]
  },
  {
   "cell_type": "code",
   "execution_count": 8,
   "id": "36a37f89",
   "metadata": {
    "code_folding": []
   },
   "outputs": [],
   "source": [
    "# train = train[['Drug_ID', 'Drug', 'Target', 'Y']].dropna()\n",
    "# train = train.reset_index(drop=True)\n",
    "\n",
    "# enumerate drugs and targets for easy indexing\n",
    "ID_to_Drug = dict(enumerate(list(dict.fromkeys(train['Drug'])))) # maybe that it is not Drug_ID\n",
    "ID_to_Target = dict(enumerate(list(dict.fromkeys(train['Target']))))\n",
    "\n",
    "Drug_to_ID = dict((v,k) for k,v in ID_to_Drug.items())\n",
    "Target_to_ID = dict((v,k) for k,v in ID_to_Target.items())"
   ]
  },
  {
   "cell_type": "markdown",
   "id": "fcd12d68",
   "metadata": {},
   "source": [
    "Now each unique drug and target has a number associated with it starting from zero that will be used to index for the matrix factorisation model. This dictionary code is then applied to the training set so each drug and target in the data set is represented by their ID number. The function also prepares the data set for PyTorch's Dataloader."
   ]
  },
  {
   "cell_type": "code",
   "execution_count": 9,
   "id": "eba79374",
   "metadata": {},
   "outputs": [],
   "source": [
    "def data_loader(data, drug_dict, target_dict):\n",
    "    # allows data to be correctly passed in to PyTorch DataLoader\n",
    "    \n",
    "    # apply ID dictionary to both drugs and targets\n",
    "    data[\"Drug_DictID\"] = data[\"Drug\"].apply(lambda x:drug_dict.get(x))\n",
    "    data[\"Target_DictID\"] = data[\"Target\"].apply(lambda x:target_dict.get(x))\n",
    "    data = data.dropna()\n",
    "\n",
    "    # convert data into expected data types\n",
    "    drug_ID = data[\"Drug_DictID\"].to_numpy()\n",
    "    target_ID = data[\"Target_DictID\"].to_numpy()\n",
    "    features = np.vstack((drug_ID, target_ID)).T\n",
    "    label = data['Y'].to_numpy()\n",
    "    return features, label"
   ]
  },
  {
   "cell_type": "code",
   "execution_count": 10,
   "id": "e36d7936",
   "metadata": {},
   "outputs": [],
   "source": [
    "x_train, y_train = data_loader(train, Drug_to_ID, Target_to_ID)\n",
    "x_test, y_test = data_loader(test, Drug_to_ID, Target_to_ID)"
   ]
  },
  {
   "cell_type": "markdown",
   "id": "d0af45dc",
   "metadata": {},
   "source": [
    "The training and test data sets are now set up as ($N$, 2) arrays where $N$ is the number of entries in the dataset. The first column represents the drugs and the second column represents the targets."
   ]
  },
  {
   "cell_type": "code",
   "execution_count": 11,
   "id": "883d815a",
   "metadata": {},
   "outputs": [
    {
     "data": {
      "text/plain": [
       "array([[   0,    0],\n",
       "       [   1,    0],\n",
       "       [   2,    0],\n",
       "       ...,\n",
       "       [7532, 1248],\n",
       "       [7301, 1240],\n",
       "       [7301, 1240]], dtype=int64)"
      ]
     },
     "execution_count": 11,
     "metadata": {},
     "output_type": "execute_result"
    }
   ],
   "source": [
    "x_train"
   ]
  },
  {
   "cell_type": "markdown",
   "id": "b6676868",
   "metadata": {},
   "source": [
    "The next step to prepare the data is to use the PyTorch `Dataloader` function so that it can be passed into the PyTorch model."
   ]
  },
  {
   "cell_type": "code",
   "execution_count": 12,
   "id": "1ce3c7ed",
   "metadata": {},
   "outputs": [],
   "source": [
    "class RatingDataset(Dataset):\n",
    "    def __init__(self, train, label):\n",
    "        self.feature_ = train\n",
    "        self.label_ = label\n",
    "\n",
    "    def __len__(self):\n",
    "        # return size of dataset\n",
    "        return len(self.feature_)\n",
    "\n",
    "    def __getitem__(self, idx):\n",
    "        return torch.tensor(self.feature_[idx], dtype=torch.long), torch.tensor(self.label_[idx], dtype=torch.float)"
   ]
  },
  {
   "cell_type": "code",
   "execution_count": 13,
   "id": "384654a3",
   "metadata": {},
   "outputs": [],
   "source": [
    "bs = 100 # batch size\n",
    "torch.manual_seed(42)\n",
    "\n",
    "train_dataloader = DataLoader(RatingDataset(x_train, y_train), batch_size=bs, shuffle=True)\n",
    "test_dataloader = DataLoader(RatingDataset(x_test, y_test), batch_size=bs)"
   ]
  },
  {
   "cell_type": "markdown",
   "id": "81c99275",
   "metadata": {},
   "source": [
    "Now the data is prepared and ready to be implemented into the models."
   ]
  },
  {
   "cell_type": "markdown",
   "id": "0904f630",
   "metadata": {},
   "source": [
    "## Base Matrix Factorisation Model"
   ]
  },
  {
   "cell_type": "markdown",
   "id": "77fd84b2",
   "metadata": {},
   "source": [
    "The first model to be tested has been called the base matrix factorisation model. This is the standard method for matrix factorisation where predictions are be obtained via $A*B^T=Y$ where $A$ is a matrix of dimensions ($N_d, f$) where $N_d$ is the number of unique drugs and f is the number of latent factors,and where $B$ is a matrix of dimensions ($N_t, f$) where $N_t$ is the number of unique targets.\n",
    "\n",
    "This matrix multiplication then results in $Y$ which has dimensions ($N_d, N_t$) where every value contains the predicted binding affinity of the respective drug and target. This starts with defining a PyTorch module for the model, the code for this was obtained from a [Medium article](https://medium.com/@rinabuoy13/explicit-recommender-system-matrix-factorization-in-pytorch-f3779bb55d74). This model provides a slight alteration where a bias is added for the drugs and targets."
   ]
  },
  {
   "cell_type": "markdown",
   "id": "3558f77e",
   "metadata": {},
   "source": [
    "### Creating the model"
   ]
  },
  {
   "cell_type": "code",
   "execution_count": 14,
   "id": "441bc0b7",
   "metadata": {},
   "outputs": [],
   "source": [
    "class MatrixFactorization(torch.nn.Module):\n",
    "\n",
    "    def __init__(self, n_users, n_items, n_factors):\n",
    "        super().__init__()\n",
    "        self.user_factors = torch.nn.Embedding(n_users, n_factors)\n",
    "        self.item_factors = torch.nn.Embedding(n_items, n_factors)\n",
    "        torch.nn.init.xavier_uniform_(self.user_factors.weight)\n",
    "        torch.nn.init.xavier_uniform_(self.item_factors.weight)\n",
    "\n",
    "        self.user_biases = torch.nn.Embedding(n_users, 1)\n",
    "        self.item_biases = torch.nn.Embedding(n_items, 1)\n",
    "        self.user_biases.weight.data.fill_(0.)\n",
    "        self.item_biases.weight.data.fill_(0.)\n",
    "\n",
    "    def forward(self, user, item):\n",
    "        pred = self.user_biases(user) + self.item_biases(item)\n",
    "        pred += (self.user_factors(user) * self.item_factors(item)).sum(1, keepdim=True)\n",
    "        return pred.squeeze()"
   ]
  },
  {
   "cell_type": "markdown",
   "id": "1dca153b",
   "metadata": {},
   "source": [
    "With the class for the model defined lets create it."
   ]
  },
  {
   "cell_type": "code",
   "execution_count": 15,
   "id": "9f4fb227",
   "metadata": {},
   "outputs": [],
   "source": [
    "n_factors = 20 # number of latent factors\n",
    "\n",
    "MF_model = MatrixFactorization(len(Drug_to_ID), len(Target_to_ID), n_factors)"
   ]
  },
  {
   "cell_type": "markdown",
   "id": "3f69f2f2",
   "metadata": {},
   "source": [
    "### Model Training"
   ]
  },
  {
   "cell_type": "markdown",
   "id": "334ddc00",
   "metadata": {},
   "source": [
    "The next step is to train the model, the following code was obtained from the same [Medium article](https://medium.com/@rinabuoy13/explicit-recommender-system-matrix-factorization-in-pytorch-f3779bb55d74) with some minor changes. This code allows for training with a GPU which helps to reduce training time."
   ]
  },
  {
   "cell_type": "code",
   "execution_count": 16,
   "id": "ce907e7c",
   "metadata": {},
   "outputs": [
    {
     "name": "stdout",
     "output_type": "stream",
     "text": [
      "epoch:  0  avg training loss:  29.287830710411072  avg test loss:  21.188508878435407\n",
      "epoch:  5  avg training loss:  9.721873506903648  avg test loss:  6.278533518314362\n",
      "epoch:  10  avg training loss:  7.03897226932976  avg test loss:  4.488698952538627\n",
      "epoch:  15  avg training loss:  5.8061845492985515  avg test loss:  3.759819837978908\n",
      "epoch:  20  avg training loss:  5.020529011885325  avg test loss:  3.305703695331301\n",
      "epoch:  25  avg training loss:  4.442901100963354  avg test loss:  2.9708737671375274\n",
      "epoch:  30  avg training loss:  3.9682096963127456  avg test loss:  2.690838497877121\n",
      "epoch:  35  avg training loss:  3.563211547831694  avg test loss:  2.4434096447059086\n",
      "epoch:  40  avg training loss:  3.2304013752275043  avg test loss:  2.2325034882341113\n",
      "epoch:  45  avg training loss:  2.946604265107049  avg test loss:  2.056431647709438\n",
      "epoch:  50  avg training loss:  2.709059192902512  avg test loss:  1.9104144522121975\n",
      "epoch:  55  avg training loss:  2.5110507102476225  avg test loss:  1.789727856857436\n",
      "epoch:  60  avg training loss:  2.339095568905274  avg test loss:  1.6907112734658378\n",
      "epoch:  65  avg training loss:  2.195556595507595  avg test loss:  1.6085971551282066\n",
      "epoch:  70  avg training loss:  2.0690665998392634  avg test loss:  1.5392489854778562\n",
      "epoch:  75  avg training loss:  1.95817955231501  avg test loss:  1.4794402624879563\n",
      "epoch:  80  avg training loss:  1.8569933542360861  avg test loss:  1.4267234465905598\n",
      "epoch:  85  avg training loss:  1.765788559284475  avg test loss:  1.3793362247092382\n",
      "epoch:  90  avg training loss:  1.6845955469956  avg test loss:  1.3362553553921837\n",
      "epoch:  95  avg training loss:  1.6079910171942577  avg test loss:  1.2968954065016338\n"
     ]
    }
   ],
   "source": [
    "dev = torch.device(\"cuda\") if torch.cuda.is_available() else torch.device(\"cpu\")\n",
    "loss_func = torch.nn.MSELoss()\n",
    "\n",
    "MF_model.to(dev)\n",
    "\n",
    "train_losses = []\n",
    "test_losses = []\n",
    "\n",
    "num_epochs = 100\n",
    "\n",
    "for epoch in range(0, num_epochs):\n",
    "    count = 0\n",
    "    cum_loss = 0.\n",
    "    for i, (train_batch, label_batch) in enumerate(train_dataloader):\n",
    "        count = 1 + i\n",
    "        # Predict and calculate loss for user factor and bias\n",
    "        optimizer = torch.optim.SGD([MF_model.user_biases.weight, MF_model.user_factors.weight,\n",
    "                                     MF_model.item_biases.weight, MF_model.item_factors.weight],\n",
    "                                    lr=0.05, weight_decay=1e-5)\n",
    "        prediction = MF_model(train_batch[:, 0].to(dev), train_batch[:, 1].to(dev))\n",
    "        loss = loss_func(prediction, label_batch.to(dev)).float()\n",
    "        loss_item = loss.item()\n",
    "        cum_loss += loss_item\n",
    "\n",
    "        # Backpropagate\n",
    "        loss.backward()\n",
    "\n",
    "        # Update the parameters\n",
    "        optimizer.step()\n",
    "        optimizer.zero_grad()\n",
    "\n",
    "    train_loss = cum_loss / count\n",
    "    train_losses.append(train_loss)\n",
    "\n",
    "    cum_loss = 0.\n",
    "    count = 0\n",
    "    for i, (test_batch, label_batch) in enumerate(test_dataloader):\n",
    "        count = 1 + i\n",
    "        with torch.no_grad():\n",
    "            prediction = MF_model(test_batch[:, 0].to(dev), test_batch[:, 1].to(dev))\n",
    "            loss = loss_func(prediction, label_batch.to(dev))\n",
    "            cum_loss += loss.item()\n",
    "\n",
    "    test_loss = cum_loss / count\n",
    "    test_losses.append(test_loss)\n",
    "    if epoch % 5 == 0:\n",
    "        print('epoch: ', epoch, ' avg training loss: ', train_loss, ' avg test loss: ', test_loss)"
   ]
  },
  {
   "cell_type": "markdown",
   "id": "84637ef2",
   "metadata": {},
   "source": [
    "With the model trained lets look at the training and test losses."
   ]
  },
  {
   "cell_type": "code",
   "execution_count": 17,
   "id": "ef7c01fa",
   "metadata": {},
   "outputs": [
    {
     "data": {
      "image/png": "[encoded data removed]",
      "text/plain": [
       "<Figure size 432x288 with 1 Axes>"
      ]
     },
     "metadata": {
      "needs_background": "light"
     },
     "output_type": "display_data"
    }
   ],
   "source": [
    "epochs = range(1, num_epochs+1)\n",
    "plt.plot(epochs, train_losses, label='train')\n",
    "plt.plot(epochs, test_losses, label='test')\n",
    "plt.xlabel('epoch')\n",
    "plt.ylabel('mse loss')\n",
    "plt.legend()\n",
    "plt.show()"
   ]
  },
  {
   "cell_type": "markdown",
   "id": "32fbf118",
   "metadata": {},
   "source": [
    "Both training and test losses decrease in a standard way, given the plateau training for more than 100 epochs is unlikely to yield a much better model."
   ]
  },
  {
   "cell_type": "markdown",
   "id": "27e2131b",
   "metadata": {},
   "source": [
    " ### Model Evaluation"
   ]
  },
  {
   "cell_type": "markdown",
   "id": "d1d08784",
   "metadata": {},
   "source": [
    "With the model trained the first step for model evaluation is to get the predictions for the test set for the final model."
   ]
  },
  {
   "cell_type": "code",
   "execution_count": 18,
   "id": "eb846d59",
   "metadata": {},
   "outputs": [],
   "source": [
    "predictions = []\n",
    "for i, (test_batch, label_batch) in enumerate(test_dataloader):\n",
    "    count = 1 + i\n",
    "    with torch.no_grad():\n",
    "        prediction = MF_model(test_batch[:, 0].to(dev), test_batch[:, 1].to(dev))\n",
    "        predictions.extend(list(prediction.cpu().numpy()))"
   ]
  },
  {
   "cell_type": "markdown",
   "id": "8c92e741",
   "metadata": {},
   "source": [
    "For the metrics the MSE and the MAE will be used. The tdc module has a built in method for doing this so lets use that."
   ]
  },
  {
   "cell_type": "code",
   "execution_count": 19,
   "id": "ab954071",
   "metadata": {},
   "outputs": [
    {
     "name": "stdout",
     "output_type": "stream",
     "text": [
      "MSE:  1.2677818285382438\n",
      "MAE:  0.697870631545813\n"
     ]
    }
   ],
   "source": [
    "from tdc import Evaluator\n",
    "mse_evaluator = Evaluator(name = 'MSE')\n",
    "mae_evaluator = Evaluator(name = 'MAE')\n",
    "\n",
    "mse_score = mse_evaluator(y_test, predictions)\n",
    "mae_score = mae_evaluator(y_test, predictions)\n",
    "\n",
    "print('MSE: ', mse_score)\n",
    "print('MAE: ', mae_score)"
   ]
  },
  {
   "cell_type": "markdown",
   "id": "05b367c3",
   "metadata": {},
   "source": [
    "### Conclusion\n",
    "The results look promising! However it is hard to evaluate them without a comparison. This same problem has been attempted by a fellow University of Sheffield student and their solution can be found [here](https://github.com/pykale/pykale/tree/main/examples/bindingdb_deepdta). Their method is called DeepDTA and uses convolutional nueral networks to represent the drugs and the targets before concatenating them to achieve the final prediction. While only the MSE is calculated for their model it still provides some comparison. A table comparing the results can be seen below.\n",
    "\n",
    "\n",
    "| Model                | MSE  |\n",
    "|----------------------|------|\n",
    "| Matrix Factorisation | 1.27 |\n",
    "| DeepDTA              | 0.74 |\n",
    "\n",
    "While the model proposed here does not perform as well but it is still impressive given the relative simplicitiy of it. Therefore in an attempt to improve the model a new method is proposed to leverage the similarities between drugs and targets.\n",
    "\n",
    "## Matrix Factorisation with Similarity Matrices\n",
    "In matrix factorisation the prediction from the model is found via $A*B^T=Y$ where $Y$ is a matrix of predictions for the binding affinity. There are two additional conditions added by introducing similarity matrices:\n",
    "\n",
    "$A*A^T=S_d$ (Drug similarity matrix)\n",
    "\n",
    "$B*B^T=S_t$ (Target similarity matrix)\n",
    "\n",
    "\n",
    "### Calculating Similarities\n",
    "We'll start off by finding a method for obtaining the similarity between two drugs. There are a couple ways of doing this but for this project we'll use the dice similarity score. This is a multiple step process that involves the RDKit module. The first step is to convert the drug from a SMILE format into [rdkit.Chem.rdchem.Mol](https://www.rdkit.org/docs/source/rdkit.Chem.rdchem.html#rdkit.Chem.rdchem.Mol) object. From here this is then transformed into a morgan fingerprint which is used to find the dice similarity score. The following code block will demonstrate this for the first two unique drugs in the training set."
   ]
  },
  {
   "cell_type": "code",
   "execution_count": 20,
   "id": "e7eeba7c",
   "metadata": {
    "scrolled": true
   },
   "outputs": [
    {
     "name": "stdout",
     "output_type": "stream",
     "text": [
      "Dice Similarity Score:  0.5714285714285714\n"
     ]
    }
   ],
   "source": [
    "# load relevant RDKit modules\n",
    "from rdkit import Chem\n",
    "from rdkit.Chem import AllChem\n",
    "from rdkit import DataStructs\n",
    "\n",
    "# Load in the first two unique drugs\n",
    "unique_drugs = pd.unique(train['Drug'])\n",
    "\n",
    "drug1 = unique_drugs[0]\n",
    "drug2 = unique_drugs[1]\n",
    "\n",
    "# Calculate the Mol object\n",
    "mol1 = Chem.MolFromSmiles(drug1)\n",
    "mol2 = Chem.MolFromSmiles(drug2)\n",
    "\n",
    "# Now calculate the morgan fingerprint the Mol object\n",
    "# the two corresponds to the radius of the morgan fingerprint, this is left as standard for this case\n",
    "morg_fp1 = AllChem.GetMorganFingerprint(mol1, 2) \n",
    "morg_fp2 = AllChem.GetMorganFingerprint(mol2, 2)\n",
    "\n",
    "# Caclulate and print the similarity score\n",
    "drug_score = DataStructs.DiceSimilarity(morg_fp1, morg_fp2)\n",
    "print('Dice Similarity Score: ', drug_score)"
   ]
  },
  {
   "cell_type": "markdown",
   "id": "f2f7d3b3",
   "metadata": {},
   "source": [
    "Now we have a method for calculating the similarity score between two drugs so this will be scaled up to calculate the similarity score between every unique drug in the training data set.\n",
    "\n",
    "The next similarity matrix required is for the Targets. For this project the Target-Target similarity is calculated via the normalised smith-waterman score. This is done via the Bio module and in particular the Align package. This allows for easy sequence alignments. Again this will be tested on the first two unique targets in the training data set.\n",
    "\n",
    "The equation below shows how the normalised Smith-Waterman score:\n",
    "$$ \\frac{score}{\\sqrt{score1} \\times \\sqrt{score2}} $$\n",
    "score is equal to the alignment score between the two targets and the score1 and score2 are the alignment scores between target1 and itself and target2 and itself."
   ]
  },
  {
   "cell_type": "code",
   "execution_count": 21,
   "id": "6bd94bbe",
   "metadata": {},
   "outputs": [
    {
     "name": "stdout",
     "output_type": "stream",
     "text": [
      "Normalised Smith-Waterman score:  0.9942\n"
     ]
    }
   ],
   "source": [
    "from Bio import Align\n",
    "\n",
    "# Load in the first two unique targets\n",
    "unique_targets = pd.unique(train['Target'])\n",
    "\n",
    "target1 = unique_targets[0]\n",
    "target2 = unique_targets[1]\n",
    "\n",
    "# Create a pairwise aligner object and verify it is Smith-Waterman\n",
    "aligner = Align.PairwiseAligner()\n",
    "aligner.mode = 'local'\n",
    "#print('Algorithm is ', aligner.algorithm)\n",
    "\n",
    "score = aligner.score(target1, target2)\n",
    "score1 = aligner.score(target1, target1)\n",
    "score2 = aligner.score(target2, target2)\n",
    "\n",
    "norm_score = round((score / (np.sqrt(score1) * np.sqrt(score2))), 4)\n",
    "print('Normalised Smith-Waterman score: ', norm_score)"
   ]
  },
  {
   "cell_type": "markdown",
   "id": "9e4cda80",
   "metadata": {},
   "source": [
    "Now we have a method for calculating the similarities between both drugs and targets.\n",
    "\n",
    "### Calculating the Similarity Matrices\n",
    "The code for calculating the full similarity matrices are below but due to the time taken to run they will be commented out and a link to download them will be provided. "
   ]
  },
  {
   "cell_type": "code",
   "execution_count": 22,
   "id": "72d96476",
   "metadata": {},
   "outputs": [],
   "source": [
    "# drug_sim = np.zeros((len(unique_drugs), len(unique_drugs)))\n",
    "\n",
    "# for i, drug1 in enumerate(tqdm(unique_drugs)):\n",
    "#     mol1 = Chem.MolFromSmiles(drug1)\n",
    "#     morg_fp1 = AllChem.GetMorganFingerprint(mol1, 2) \n",
    "\n",
    "#     for j, drug2 in enumerate(unique_drugs):\n",
    "#         mol2 = Chem.MolFromSmiles(drug2)\n",
    "#         morg_fp2 = AllChem.GetMorganFingerprint(mol2, 2)\n",
    "        \n",
    "#         drug_score = DataStructs.DiceSimilarity(morg_fp1, morg_fp2)\n",
    "#         drug_sim[i][j] = round(drug_score, 4)\n",
    "        \n",
    "# np.savetxt('drug_sim.txt', drug_sim, delimiter=',')"
   ]
  },
  {
   "cell_type": "code",
   "execution_count": 23,
   "id": "e88c99b0",
   "metadata": {
    "code_folding": [],
    "scrolled": true
   },
   "outputs": [],
   "source": [
    "# target_sim = np.zeros((len(unique_targets), len(unique_targets)))\n",
    "\n",
    "# for i, target1 in enumerate(tqdm(unique_targets)):\n",
    "#     score1 = aligner.score(target1, target1)\n",
    "    \n",
    "#     for j, target2 in enumerate(unique_targets):\n",
    "#         score2 = aligner.score(target2, target2)\n",
    "        \n",
    "#         score = aligner.score(target1, target2)\n",
    "        \n",
    "#         norm_score = score / (np.sqrt(score1) * np.sqrt(score2))\n",
    "#         target_sim[i][j] = round(norm_score, 4)\n",
    "        \n",
    "# np.savetxt('target_sim.txt', target_sim, delimiter=',')"
   ]
  },
  {
   "cell_type": "code",
   "execution_count": 24,
   "id": "8dc6e7c1",
   "metadata": {},
   "outputs": [],
   "source": [
    "# loading in previously calculated similarity matrices\n",
    "drug_sim_np = np.loadtxt('SimilarityMatrices/drug_sim.txt', delimiter=',')\n",
    "drug_sim = torch.from_numpy(drug_sim_np)\n",
    "\n",
    "target_sim_np = np.loadtxt('SimilarityMatrices/target_sim.txt', delimiter=',')\n",
    "target_sim = torch.from_numpy(target_sim_np)"
   ]
  },
  {
   "cell_type": "markdown",
   "id": "c1d66202",
   "metadata": {},
   "source": [
    "With a similarity matrix for drugs and targets calculated can now begin creating the new model. \n",
    "\n",
    "### Creating the advanced model\n",
    "The inspiration for this model is from a paper by Zheng et al and can be found [here](https://www.bic.kyoto-u.ac.jp/pathway/Files/kdd13.pdf). The initilisation of the class has a small addition where the model accepts the drug and target similarity matrices. \n",
    "\n",
    "The main changes to the class are to include the extra conditions:\n",
    "\n",
    "$A*A^T=S_d$ (Drug similarity matrix)\n",
    "\n",
    "$B*B^T=S_t$ (Target similarity matrix)\n",
    "\n",
    "\n"
   ]
  },
  {
   "cell_type": "code",
   "execution_count": 25,
   "id": "cb2ef31d",
   "metadata": {},
   "outputs": [],
   "source": [
    "class MatrixFactorization(torch.nn.Module):\n",
    "\n",
    "    def __init__(self, n_users, n_items, n_factors, drug_sim, target_sim):\n",
    "        super().__init__()\n",
    "        self.user_factors = torch.nn.Embedding(n_users, n_factors)\n",
    "        self.item_factors = torch.nn.Embedding(n_items, n_factors)\n",
    "        torch.nn.init.xavier_uniform_(self.user_factors.weight)\n",
    "        torch.nn.init.xavier_uniform_(self.item_factors.weight)\n",
    "\n",
    "        self.user_biases = torch.nn.Embedding(n_users, 1)\n",
    "        self.item_biases = torch.nn.Embedding(n_items, 1)\n",
    "        self.user_biases.weight.data.fill_(0.)\n",
    "        self.item_biases.weight.data.fill_(0.)\n",
    "\n",
    "        self.user_sim = drug_sim\n",
    "        self.item_sim = target_sim\n",
    "\n",
    "    def forward(self, user, item):\n",
    "        AAT_list = [torch.dot(self.user_factors(user)[i, :], self.user_factors(user)[i, :]) for i in\n",
    "                    range(self.user_factors(user).shape[0])]\n",
    "        AAT = torch.tensor(AAT_list)\n",
    "\n",
    "        Sd_partial = self.user_sim[user]\n",
    "        Sd = Sd_partial[:, user]\n",
    "\n",
    "        BBT_list = [torch.dot(self.item_factors(item)[i, :], self.item_factors(item)[i, :]) for i in\n",
    "                    range(self.item_factors(item).shape[0])]\n",
    "        BBT = torch.tensor(BBT_list)\n",
    "\n",
    "        St_partial = self.user_sim[user]\n",
    "        St = St_partial[:, user]\n",
    "\n",
    "        pred = self.user_biases(user) + self.item_biases(item)\n",
    "        pred += (self.user_factors(user) * self.item_factors(item)).sum(1, keepdim=True)\n",
    "\n",
    "        drug_norm = 0.25 * torch.norm(Sd - AAT)\n",
    "        target_norm = 0.25 * torch.norm(St - BBT)\n",
    "        return pred.squeeze(), drug_norm, target_norm"
   ]
  },
  {
   "cell_type": "code",
   "execution_count": 26,
   "id": "a1712031",
   "metadata": {},
   "outputs": [],
   "source": [
    "n_factors = 20 # number of latent factors\n",
    "num_epochs = 100\n",
    "\n",
    "MFSM_model = MatrixFactorization(len(Drug_to_ID), len(Target_to_ID), n_factors, drug_sim, target_sim)"
   ]
  },
  {
   "cell_type": "markdown",
   "id": "e7f6072f",
   "metadata": {},
   "source": [
    "### Model Training"
   ]
  },
  {
   "cell_type": "code",
   "execution_count": 27,
   "id": "0827d398",
   "metadata": {},
   "outputs": [
    {
     "name": "stdout",
     "output_type": "stream",
     "text": [
      "epoch:  0  avg training loss:  50.03054295949491  avg test loss:  33.06716309956142\n",
      "epoch:  5  avg training loss:  43.10343099443166  avg test loss:  25.56904055731637\n",
      "epoch:  10  avg training loss:  38.14817798884657  avg test loss:  20.28589532034738\n",
      "epoch:  15  avg training loss:  34.5476729712351  avg test loss:  16.51148430960519\n",
      "epoch:  20  avg training loss:  31.898263744346096  avg test loss:  13.776900686536516\n",
      "epoch:  25  avg training loss:  29.917673638038966  avg test loss:  11.766262224742345\n",
      "epoch:  30  avg training loss:  28.370293021623215  avg test loss:  10.265197927611215\n",
      "epoch:  35  avg training loss:  27.19938923486432  avg test loss:  9.127170743261065\n",
      "epoch:  40  avg training loss:  26.26554377017479  avg test loss:  8.25061935697283\n",
      "epoch:  45  avg training loss:  25.483968652977737  avg test loss:  7.564916123662676\n",
      "epoch:  50  avg training loss:  24.857048968385712  avg test loss:  7.0191827399390085\n",
      "epoch:  55  avg training loss:  24.344712180232477  avg test loss:  6.57840120451791\n",
      "epoch:  60  avg training loss:  23.88380306088922  avg test loss:  6.216686315195901\n",
      "epoch:  65  avg training loss:  23.50500887284355  avg test loss:  5.915152657032013\n",
      "epoch:  70  avg training loss:  23.171618701694797  avg test loss:  5.660044131960188\n",
      "epoch:  75  avg training loss:  22.851654084007166  avg test loss:  5.441388332843781\n",
      "epoch:  80  avg training loss:  22.589307792845332  avg test loss:  5.251418800013406\n",
      "epoch:  85  avg training loss:  22.32730997564672  avg test loss:  5.084376515660967\n",
      "epoch:  90  avg training loss:  22.107777086134277  avg test loss:  4.935883811541966\n",
      "epoch:  95  avg training loss:  21.87782033097193  avg test loss:  4.802487550462995\n"
     ]
    }
   ],
   "source": [
    "dev = torch.device(\"cuda\") if torch.cuda.is_available() else torch.device(\"cpu\")\n",
    "loss_func = torch.nn.MSELoss()\n",
    "\n",
    "MFSM_model.to(dev)\n",
    "\n",
    "train_losses = []\n",
    "test_losses = []\n",
    "for epoch in range(0, num_epochs):\n",
    "    count = 0\n",
    "    cum_loss = 0.\n",
    "    for i, (train_batch, label_batch) in enumerate(train_dataloader):\n",
    "        count = 1 + i\n",
    "        # predict and calculate loss for item factor and bias\n",
    "        optimizer = torch.optim.SGD([MFSM_model.user_biases.weight, MFSM_model.user_factors.weight, \n",
    "                                     MFSM_model.item_biases.weight, MFSM_model.item_factors.weight], lr=0.005,\n",
    "                                    weight_decay=1e-5)\n",
    "        prediction, drug_norm, target_norm = MFSM_model(train_batch[:, 0].to(dev), train_batch[:, 1].to(dev))\n",
    "        loss = loss_func(prediction, label_batch.to(dev)).float() + drug_norm + target_norm\n",
    "        loss_item = loss.item()\n",
    "        cum_loss += loss_item\n",
    "\n",
    "        # Backpropagate\n",
    "        loss.backward()\n",
    "\n",
    "        # Update the parameters\n",
    "        optimizer.step()\n",
    "        optimizer.zero_grad()\n",
    "        \n",
    "    train_loss = cum_loss / count\n",
    "    train_losses.append(train_loss)\n",
    "\n",
    "    cum_loss = 0.\n",
    "    count = 0\n",
    "    for i, (test_batch, label_batch) in enumerate(test_dataloader):\n",
    "        count = 1 + i\n",
    "        with torch.no_grad():\n",
    "            prediction, drug_norm, target_norm = MFSM_model(test_batch[:, 0].to(dev), test_batch[:, 1].to(dev))\n",
    "            loss = loss_func(prediction, label_batch.to(dev))\n",
    "            cum_loss += loss.item()\n",
    "\n",
    "    test_loss = cum_loss / count\n",
    "    test_losses.append(test_loss)\n",
    "    if epoch % 5 == 0:\n",
    "        print('epoch: ', epoch, ' avg training loss: ', train_loss, ' avg test loss: ', test_loss)"
   ]
  },
  {
   "cell_type": "code",
   "execution_count": 28,
   "id": "620a7a56",
   "metadata": {},
   "outputs": [
    {
     "data": {
      "image/png": "[encoded data removed]",
      "text/plain": [
       "<Figure size 432x288 with 1 Axes>"
      ]
     },
     "metadata": {
      "needs_background": "light"
     },
     "output_type": "display_data"
    }
   ],
   "source": [
    "epochs = range(1, num_epochs+1)\n",
    "plt.plot(epochs, train_losses, label='train')\n",
    "plt.plot(epochs, test_losses, label='test')\n",
    "plt.xlabel('epoch')\n",
    "plt.ylabel('mse loss')\n",
    "plt.legend()\n",
    "plt.show()"
   ]
  },
  {
   "cell_type": "markdown",
   "id": "5c86cfd1",
   "metadata": {},
   "source": [
    "I'm not too sure why the training loss is so much higher than the test loss. A possible reason could be in the way they are calculated. The training loss is calculated while the model is still training whereas the test loss is calculated after the model has finished training on an epoch so will perform better."
   ]
  },
  {
   "cell_type": "markdown",
   "id": "50b9b110",
   "metadata": {},
   "source": [
    "### Model Evaluation"
   ]
  },
  {
   "cell_type": "code",
   "execution_count": 29,
   "id": "53c1ca1a",
   "metadata": {},
   "outputs": [
    {
     "name": "stderr",
     "output_type": "stream",
     "text": [
      "100%|████████████████████████████████████████████████████████████████████████████████| 140/140 [00:04<00:00, 32.60it/s]\n"
     ]
    }
   ],
   "source": [
    "predictions = []\n",
    "for i, (test_batch, label_batch) in enumerate(tqdm(test_dataloader)):\n",
    "    count = 1 + i\n",
    "    with torch.no_grad():\n",
    "        prediction = MFSM_model(test_batch[:, 0].to(dev), test_batch[:, 1].to(dev))\n",
    "        predictions.extend(list(prediction[0].cpu().numpy()))"
   ]
  },
  {
   "cell_type": "code",
   "execution_count": 30,
   "id": "c751c079",
   "metadata": {},
   "outputs": [
    {
     "name": "stdout",
     "output_type": "stream",
     "text": [
      "MSE:  4.703316540461572\n",
      "MAE:  1.3349805597398654\n"
     ]
    }
   ],
   "source": [
    "mse_score = mse_evaluator(y_test, predictions)\n",
    "mae_score = mae_evaluator(y_test, predictions)\n",
    "\n",
    "print('MSE: ', mse_score)\n",
    "print('MAE: ', mae_score)"
   ]
  },
  {
   "cell_type": "markdown",
   "id": "b89d10f5",
   "metadata": {},
   "source": [
    "### Conclusion"
   ]
  },
  {
   "cell_type": "markdown",
   "id": "12217f24",
   "metadata": {},
   "source": [
    "That concludes the modelling part of this project. Unfortunately the advancement to the model did not improve the final result. The full table can be seen below with the results of both models from this notebook and the DeepDTA model mentioned previously. \n",
    "\n",
    "| Model                        | MSE  | MAE   |\n",
    "|------------------------------|------|-------|\n",
    "| Matrix Factorisation         | 1.99 | 0.70  |\n",
    "| Matrix Factorisation with SM | 4.70 | 1.33  |\n",
    "| DeepDTA                      | 0.74 | na    |\n",
    "\n",
    "There are a couple improvements that could be tried to improve the final results. Firstly, while a cursory attempt at hyper parameter tuning was attempted this was far from exhaustive, therefore a more thorough attempt would be recommended. Parameters that could be tuned include batch size, number of factors, weight decay, and the weight of the similarity matrices. This would most likely provide a small increase in performance for both models.\n",
    "\n",
    "For an improvement specific to the advanced model its recommended to add more similarity matrices for both drugs and targets. Currently only one is used for both however the paper that this model draws inspiration from uses multiple all with a weight that changes to ensure a higher quality similarity matrice has a greater importance.  \n",
    "\n",
    "Thanks for reading through :) I'm welcome to any tips or suggestions as I'm just starting out with data science"
   ]
  }
 ],
 "metadata": {
  "kernelspec": {
   "display_name": "Python 3",
   "language": "python",
   "name": "python3"
  },
  "language_info": {
   "codemirror_mode": {
    "name": "ipython",
    "version": 3
   },
   "file_extension": ".py",
   "mimetype": "text/x-python",
   "name": "python",
   "nbconvert_exporter": "python",
   "pygments_lexer": "ipython3",
   "version": "3.8.5"
  }
 },
 "nbformat": 4,
 "nbformat_minor": 5
}
